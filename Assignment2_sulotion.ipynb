{
 "cells": [
  {
   "cell_type": "markdown",
   "metadata": {},
   "source": [
    "# A02.1 Average degree of the nearest neighbours\n",
    "Task: For each dataset 𝒢, randomise it to obtain a network\n",
    "𝒢𝑟𝑛𝑑 and explore their assortativity properties"
   ]
  },
  {
   "cell_type": "markdown",
   "metadata": {},
   "source": [
    "## 1. Plot the average degree of the nearest neighbours 𝑘𝑛𝑛(𝑘) as a function of the vertices degree 𝑘\n",
    "\n"
   ]
  },
  {
   "cell_type": "code",
   "execution_count": null,
   "metadata": {},
   "outputs": [],
   "source": []
  },
  {
   "cell_type": "markdown",
   "metadata": {},
   "source": [
    "## 2. Compute the assortativity coefficient of the real network"
   ]
  },
  {
   "cell_type": "code",
   "execution_count": null,
   "metadata": {},
   "outputs": [],
   "source": []
  },
  {
   "cell_type": "markdown",
   "metadata": {},
   "source": [
    "## 3. Compute the assortativity coefficient of the randomised network"
   ]
  },
  {
   "cell_type": "code",
   "execution_count": null,
   "metadata": {},
   "outputs": [],
   "source": []
  },
  {
   "cell_type": "code",
   "execution_count": null,
   "metadata": {},
   "outputs": [],
   "source": []
  },
  {
   "cell_type": "markdown",
   "metadata": {},
   "source": [
    "# A02.2 Clustering and randomisation\n",
    "For each dataset 𝒢, randomise it to obtain a network 𝒢𝑟𝑛𝑑\n",
    "and explore their clustering properties"
   ]
  },
  {
   "cell_type": "code",
   "execution_count": 20,
   "metadata": {},
   "outputs": [],
   "source": [
    "import os\n",
    "import networkx as nx\n",
    "\n",
    "def import_datasets(datasets_folder):\n",
    "    d={} #empty dictionary\n",
    "    for item in os.listdir(datasets_folder):\n",
    "        if 'gml'in item:\n",
    "            item_path = os.path.join(datasets_folder,item)\n",
    "            item_name = item.split(\"_\",1)[1].split(\".\")[0] \n",
    "            print(\"dataset named \"+item_name+\" imported\")\n",
    "            d[\"g_{0}\".format(item_name)] = nx.read_gml(item_path)\n",
    "    print(\"finish importing\")\n",
    "    return d"
   ]
  },
  {
   "cell_type": "code",
   "execution_count": 21,
   "metadata": {
    "scrolled": true
   },
   "outputs": [
    {
     "name": "stdout",
     "output_type": "stream",
     "text": [
      "dataset named AstroPh imported\n",
      "dataset named celegansInteractomes imported\n",
      "dataset named chess imported\n",
      "dataset named CondMat imported\n",
      "dataset named dolphins imported\n",
      "dataset named eu_airlines imported\n",
      "dataset named facebook imported\n",
      "dataset named florentine_families imported\n",
      "dataset named game_thrones imported\n",
      "dataset named internet imported\n",
      "dataset named jazz_collab imported\n",
      "dataset named terrorists imported\n",
      "finish importing\n"
     ]
    }
   ],
   "source": [
    "d_gs = import_datasets('data-assignment2/data')     "
   ]
  },
  {
   "cell_type": "code",
   "execution_count": 15,
   "metadata": {},
   "outputs": [
    {
     "data": {
      "text/plain": [
       "{'g_AstroPh': <networkx.classes.graph.Graph at 0x266c1cb9550>,\n",
       " 'g_celegansInteractomes': <networkx.classes.graph.Graph at 0x266c1cc7a58>,\n",
       " 'g_chess': <networkx.classes.graph.Graph at 0x266c16e1198>,\n",
       " 'g_CondMat': <networkx.classes.graph.Graph at 0x266c4b2efd0>,\n",
       " 'g_dolphins': <networkx.classes.graph.Graph at 0x266c4b2c080>,\n",
       " 'g_eu_airlines': <networkx.classes.graph.Graph at 0x266c795e080>,\n",
       " 'g_facebook': <networkx.classes.graph.Graph at 0x266c2faf8d0>,\n",
       " 'g_florentine_families': <networkx.classes.graph.Graph at 0x266c3762080>,\n",
       " 'g_game_thrones': <networkx.classes.graph.Graph at 0x266c36f00f0>,\n",
       " 'g_internet': <networkx.classes.graph.Graph at 0x266811014e0>,\n",
       " 'g_jazz_collab': <networkx.classes.graph.Graph at 0x266c3b83048>,\n",
       " 'g_terrorists': <networkx.classes.graph.Graph at 0x266c3b9bfd0>}"
      ]
     },
     "execution_count": 15,
     "metadata": {},
     "output_type": "execute_result"
    }
   ],
   "source": [
    "d_gs"
   ]
  },
  {
   "cell_type": "markdown",
   "metadata": {},
   "source": [
    "## 1. Plot the degree distribution in double-logscale and mark with a vertical line the average degree ⟨𝑘⟩\n",
    "\n"
   ]
  },
  {
   "cell_type": "code",
   "execution_count": null,
   "metadata": {},
   "outputs": [],
   "source": []
  },
  {
   "cell_type": "markdown",
   "metadata": {},
   "source": [
    "## 2. For each node, compute the clustering coefficient in the graphs 𝒢 (denoted by 𝐶(𝑖)) and 𝒢𝑟𝑛𝑑 (denoted as 𝐶𝑟𝑛𝑑(𝑖))"
   ]
  },
  {
   "cell_type": "code",
   "execution_count": null,
   "metadata": {},
   "outputs": [],
   "source": []
  },
  {
   "cell_type": "markdown",
   "metadata": {},
   "source": [
    "## 3. Do a scatter plot of 𝐶(𝑖) vs. 𝐶𝑟𝑛𝑑(𝑖)"
   ]
  },
  {
   "cell_type": "code",
   "execution_count": null,
   "metadata": {},
   "outputs": [],
   "source": []
  }
 ],
 "metadata": {
  "kernelspec": {
   "display_name": "Python 3",
   "language": "python",
   "name": "python3"
  },
  "language_info": {
   "codemirror_mode": {
    "name": "ipython",
    "version": 3
   },
   "file_extension": ".py",
   "mimetype": "text/x-python",
   "name": "python",
   "nbconvert_exporter": "python",
   "pygments_lexer": "ipython3",
   "version": "3.6.9"
  },
  "varInspector": {
   "cols": {
    "lenName": 16,
    "lenType": 16,
    "lenVar": 40
   },
   "kernels_config": {
    "python": {
     "delete_cmd_postfix": "",
     "delete_cmd_prefix": "del ",
     "library": "var_list.py",
     "varRefreshCmd": "print(var_dic_list())"
    },
    "r": {
     "delete_cmd_postfix": ") ",
     "delete_cmd_prefix": "rm(",
     "library": "var_list.r",
     "varRefreshCmd": "cat(var_dic_list()) "
    }
   },
   "types_to_exclude": [
    "module",
    "function",
    "builtin_function_or_method",
    "instance",
    "_Feature"
   ],
   "window_display": false
  }
 },
 "nbformat": 4,
 "nbformat_minor": 2
}
